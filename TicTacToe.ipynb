{
  "nbformat": 4,
  "nbformat_minor": 0,
  "metadata": {
    "colab": {
      "provenance": [],
      "authorship_tag": "ABX9TyNSA5tme0h+FiVhiwuE9sKc"
    },
    "kernelspec": {
      "name": "python3",
      "display_name": "Python 3"
    },
    "language_info": {
      "name": "python"
    }
  },
  "cells": [
    {
      "cell_type": "markdown",
      "metadata": {
        "id": "VDkyVvVpimAv"
      },
      "source": []
    },
    {
      "cell_type": "markdown",
      "metadata": {
        "id": "ty8BwPrmincy"
      },
      "source": [
        "**A. Context: AI, Autonomy, Search, Data Science, Control**\n",
        "\n",
        "1. What is an autonomous machine, and what does autonomy mean?\n",
        "\n",
        "    *Answer:* An autonomous machine is a machine that does not require any external interventions. They interact with the environment through sensor and actuation signals. Autonomy means ability to sense and act on its own without intervention.\n",
        "\n",
        "\n",
        "2. (a) Classical AI techniques employ trees of decision constructs (if statements, etc.) to achieve some form of \"intelligent\"-like behavior. An example of this is the famous Eliza AI-based \"psychotherapist\". What do you feel are the strengths and weaknesses of such an approach? State and explain three such strengths and three weaknesses.\n",
        "\n",
        "    *Answer:*\n",
        "    \n",
        "    Strengths:\n",
        "\n",
        "    - Good in situations with limited number of potential inputs/outputs because might be easier to develop and implement\n",
        "    - Requires less computing power than competent autonomous agents because it already knows what are the potential inputs/outputs (for example, ELIZA was functioning on computing power from the 1970's)\n",
        "    - Does not require a training period to learn from the environment because the conditions are already coded\n",
        "    \n",
        "  Weaknesses:\n",
        "    - Adopts a symbolic view of the world and does not perform well if there are uncertainities or if no sufficient insights about inputs/outputs because the conditions would not be pre-coded\n",
        "    - Limited by the coded scenarios and might miss an \"if condition\" that is an outlier or was not identified before. For example, if the Eliza AI-based \"psychotherpist\" was given an input that does not include one of the pre-programmed keywords. At that point the \"psychoterapist\" will not be able to adapt or respond appropiately\n",
        "    - Requires high maintenance to remain up to date because it is not dynamically learning\n",
        "\n",
        "\n",
        "\n",
        "2. (B) Data Science includes signal processing, adaptive filters, supervised and unsupervised machine learning. These techniques solve the modeling problem from the perspective of the data. That is, they serve to classify signals (data), interpolate signals (data), or extract signal from noise. Comment on how these functions relate to artificial intelligence?\n",
        "\n",
        "  *Answer:*\n",
        "  \n",
        "  Artificial intelligence can use some of those techniques to understand the environment, learn from it, and make \"smart\" decisions. Data science is broader and can improve the way we deal and gain insights from data.\n",
        "\n",
        "  I have included below function by function how they can be used in artificial intelligence:\n",
        "  \n",
        "    Signal processing --> can be used in AI to remove any noise from the external environment when trying to learn from its inputs\n",
        "\n",
        "    Adaptive filters --> can be used when the parameter being processed is not known prior. For instance in image procesisng by removing noise without blurring the images\n",
        "\n",
        "    Supervised machine learning --> can be used in AI to forecast what the target would be based on an input\n",
        "\n",
        "    Unsupervised machine learning --> can be used in AI to classify datapoints that are not previously categorized\n",
        "\n",
        "\n",
        "2. (C) Control theory concerns the development of feedback laws (i.e., control laws) that strive to push a system (the \"plant\") to a desired state. It does this based on observation of essential characteristics of the plant (the state, or some possibly noisy or lossy observation of the state), and construction of an appropriate feedback signal. How does this tool compare with the prior two, relating to the development of an autonomous system? Explain the similarities and differences from a structural (high level) point of view.\n",
        "\n",
        "  *Answer:*\n",
        "  \n",
        "  Similarities:\n",
        "  \n",
        "  - They all focus on finding a solution to determine the best estimated course of action for a system\n",
        "\n",
        "  Differences:\n",
        "  \n",
        "  - Control theory is more dynamic than the trees of decision constructs method because it has fees feedback loops that can capture and model changes in the system. It also focuses on the model of the system as a whole rather than focus primarily on the data such as data science."
      ]
    },
    {
      "cell_type": "markdown",
      "metadata": {
        "id": "j2mUBEk3sQMq"
      },
      "source": [
        "**B. Practice**"
      ]
    },
    {
      "cell_type": "markdown",
      "metadata": {
        "id": "_7Z4T22LSmOZ"
      },
      "source": [
        "Code for tic tac toe"
      ]
    },
    {
      "cell_type": "code",
      "metadata": {
        "id": "L907tPxFsVfh"
      },
      "source": [
        "import numpy as np\n",
        "\n",
        "#reset method\n",
        "def reset(input_board):\n",
        "  input_board=np.array([['-','-','-'],['-','-','-'],['-','-','-']])\n",
        "  return input_board\n",
        "\n",
        "board = np.array([['-','-','-'],['-','-','-'],['-','-','-']])\n",
        "board = reset(board)\n",
        "\n",
        "# X set position and after every set check if game won or draw\n",
        "def x_player(input_board, row, col):\n",
        "  row=int(row)\n",
        "  col=int(col)\n",
        "  if input_board[row,col]== '-':\n",
        "    input_board[row,col]= 'X'\n",
        "    inserted=True\n",
        "  else:\n",
        "    print(\"position already occupied\")\n",
        "    inserted=False\n",
        "  game_won_check(input_board)\n",
        "  return input_board, inserted\n",
        "\n",
        "#O set position and after every set check if game won or draw\n",
        "def o_player(input_board, row, col):\n",
        "  row=int(row)\n",
        "  col=int(col)\n",
        "  if input_board[row,col]== '-':\n",
        "    input_board[row,col]= 'O'\n",
        "    inserted=True\n",
        "  else:\n",
        "    print(\"position already occupied\")\n",
        "    inserted=False\n",
        "  game_won_check(input_board)\n",
        "  return input_board, inserted\n",
        "\n",
        "#check if game won and by whom or draw\n",
        "def game_won_check(input_board):\n",
        "  for i in range (0,2):\n",
        "    if sum(np.sum(input_board == 'X', axis = i)==3)>=1:\n",
        "      print('X wins!')\n",
        "      break\n",
        "    elif sum(np.sum(input_board == 'O', axis = i)==3)>=1:\n",
        "      print('O wins!')\n",
        "      break\n",
        "  if np.sum(np.diagonal(input_board) == 'O') ==3:\n",
        "    print('O wins!')\n",
        "  elif np.sum(np.diagonal(input_board) == 'X') ==3:\n",
        "    print('X wins!')\n",
        "  elif np.sum(input_board=='-')==0:\n",
        "    print('Draw!')\n",
        "  return input_board\n",
        "\n",
        "# O human player sets with inputs from user\n",
        "def o_human_player(input_board):\n",
        "  row = input(\"What is the row location?\")\n",
        "  col = input(\"What is the col location?\")\n",
        "  o_player(input_board, row, col)\n",
        "  return input_board\n",
        "\n",
        "# X human player sets with inputs from user\n",
        "def x_human_player(input_board):\n",
        "  row = int(input(\"What is the row location?\"))\n",
        "  col = int(input(\"What is the col location?\"))\n",
        "  x_player(input_board, row, col)\n",
        "  return input_board\n",
        "\n",
        "# computer player first checks not to lose then how to win then just plays the first available spot\n",
        "# assumes human always starts with X hence computer plays O\n",
        "def o_computer_player(input_board): #assumes human always starts the game and computer always plays O\n",
        "  inserted=[0,False]\n",
        "  #goal is for computer is to first check not to lose\n",
        "  for i in range (0,2):\n",
        "  #finding if the opponent is one spot away from winning\n",
        "    if np.sum(np.sum(input_board == 'X', axis = i)==2) >=1:\n",
        "      index=np.where((np.sum(input_board == 'X', axis = i)==2) == True)[0][0]\n",
        "      for j in range (0,3):\n",
        "        inserted=o_player(input_board,j,index) if i==0 else o_player(input_board,index,j)\n",
        "        if inserted[1]:\n",
        "          break\n",
        "\n",
        "  #now computer checks how to win\n",
        "  if inserted[1]==False:\n",
        "    for i in range (0,2):\n",
        "      #finding if computer is one spot away from winning\n",
        "      if np.sum(np.sum(input_board == 'O', axis = i)==2) >=1:\n",
        "        index=np.where((np.sum(input_board == 'O', axis = i)==2) == True)[0][0]\n",
        "        for j in range (0,3):\n",
        "          inserted=o_player(input_board,j,index) if i==0 else o_player(input_board,index,j)\n",
        "          if inserted[1]:\n",
        "            break\n",
        "\n",
        "  #After checking for not losing and potential wins, now computer just plays teh first availabel spot\n",
        "  if inserted[1]==False:\n",
        "      for i in range (0,3):\n",
        "       for j in range (0,3):\n",
        "          inserted= o_player(input_board,i,j)\n",
        "          if inserted[1]:\n",
        "           break\n",
        "       if inserted[1]:\n",
        "          break\n",
        "\n",
        "  return input_board"
      ],
      "execution_count": 1,
      "outputs": []
    },
    {
      "cell_type": "code",
      "metadata": {
        "id": "H9ujmBQ_7Xns",
        "colab": {
          "base_uri": "https://localhost:8080/"
        },
        "outputId": "6a486a47-af15-4cba-8e19-bb05629eac62"
      },
      "source": [
        "#playing human vs human game\n",
        "x_human_player(board)\n",
        "o_human_player(board)"
      ],
      "execution_count": 3,
      "outputs": [
        {
          "name": "stdout",
          "output_type": "stream",
          "text": [
            "What is the row location?1\n",
            "What is the col location?0\n",
            "What is the row location?1\n",
            "What is the col location?2\n"
          ]
        },
        {
          "output_type": "execute_result",
          "data": {
            "text/plain": [
              "array([['-', '-', '-'],\n",
              "       ['X', '-', 'O'],\n",
              "       ['-', 'X', '-']], dtype='<U1')"
            ]
          },
          "metadata": {},
          "execution_count": 3
        }
      ]
    },
    {
      "cell_type": "code",
      "metadata": {
        "id": "tRt8us3Z-A_4"
      },
      "source": [
        "board=reset(board)"
      ],
      "execution_count": null,
      "outputs": []
    },
    {
      "cell_type": "code",
      "metadata": {
        "id": "xJxCSxkyE9YJ"
      },
      "source": [
        "#playing human (X) vs computer (O)\n",
        "#assume human always starts hence play with x\n",
        "x_human_player(board)\n",
        "o_computer_player(board)"
      ],
      "execution_count": null,
      "outputs": []
    },
    {
      "cell_type": "markdown",
      "metadata": {
        "id": "Nu2cE7AjRKKo"
      },
      "source": [
        "A. Helper methods used to help: (in addition to the ones suggested in the question)\n",
        "  - creating human plays and computer plays methods to define how the actions taken are different for each type of player. Specifically\n",
        "  \n",
        "    - most used are: x_player(input_board) and o_player(input_board)\n",
        "    - x_human_player(input_board)\n",
        "    - o_human_player(input_board)\n",
        "    - o_computer_player(input_board)\n",
        "\n",
        "B. feedback needed:\n",
        "- It is important to know whether an x or an o were inserted so that the computer can determine whether this position is occupied or not\n",
        "\n",
        "C. Space of action:\n",
        "- the different actions that can be taken are:\n",
        "  -  to insert\n",
        "  -  to choose to insert in a different location if pre-occupied\n",
        "  -  \u0010In addition, for the computer, can choose to insert to prevent a loss or to insert to exploit a win, or simply insert in the first available spot.\n",
        "\n",
        "\n",
        "\n"
      ]
    }
  ]
}