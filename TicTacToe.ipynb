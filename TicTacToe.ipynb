{
  "nbformat": 4,
  "nbformat_minor": 0,
  "metadata": {
    "colab": {
      "provenance": [],
      "authorship_tag": "ABX9TyPi7XcsbCrVFMq1oapwqCjY"
    },
    "kernelspec": {
      "name": "python3",
      "display_name": "Python 3"
    },
    "language_info": {
      "name": "python"
    }
  },
  "cells": [
    {
      "cell_type": "markdown",
      "metadata": {
        "id": "VDkyVvVpimAv"
      },
      "source": []
    },
    {
      "cell_type": "markdown",
      "metadata": {
        "id": "j2mUBEk3sQMq"
      },
      "source": [
        "**B. Practice**"
      ]
    },
    {
      "cell_type": "markdown",
      "metadata": {
        "id": "_7Z4T22LSmOZ"
      },
      "source": [
        "Code for tic tac toe"
      ]
    },
    {
      "cell_type": "code",
      "metadata": {
        "id": "L907tPxFsVfh"
      },
      "source": [
        "import numpy as np\n",
        "\n",
        "#reset method\n",
        "def reset(input_board):\n",
        "  input_board=np.array([['-','-','-'],['-','-','-'],['-','-','-']])\n",
        "  return input_board\n",
        "\n",
        "board = np.array([['-','-','-'],['-','-','-'],['-','-','-']])\n",
        "board = reset(board)\n",
        "\n",
        "# X set position and after every set check if game won or draw\n",
        "def x_player(input_board, row, col):\n",
        "  row=int(row)\n",
        "  col=int(col)\n",
        "  if input_board[row,col]== '-':\n",
        "    input_board[row,col]= 'X'\n",
        "    inserted=True\n",
        "  else:\n",
        "    print(\"position already occupied\")\n",
        "    inserted=False\n",
        "  game_won_check(input_board)\n",
        "  return input_board, inserted\n",
        "\n",
        "#O set position and after every set check if game won or draw\n",
        "def o_player(input_board, row, col):\n",
        "  row=int(row)\n",
        "  col=int(col)\n",
        "  if input_board[row,col]== '-':\n",
        "    input_board[row,col]= 'O'\n",
        "    inserted=True\n",
        "  else:\n",
        "    print(\"position already occupied\")\n",
        "    inserted=False\n",
        "  game_won_check(input_board)\n",
        "  return input_board, inserted\n",
        "\n",
        "#check if game won and by whom or draw\n",
        "def game_won_check(input_board):\n",
        "  for i in range (0,2):\n",
        "    if sum(np.sum(input_board == 'X', axis = i)==3)>=1:\n",
        "      print('X wins!')\n",
        "      break\n",
        "    elif sum(np.sum(input_board == 'O', axis = i)==3)>=1:\n",
        "      print('O wins!')\n",
        "      break\n",
        "  if np.sum(np.diagonal(input_board) == 'O') ==3:\n",
        "    print('O wins!')\n",
        "  elif np.sum(np.diagonal(input_board) == 'X') ==3:\n",
        "    print('X wins!')\n",
        "  elif np.sum(input_board=='-')==0:\n",
        "    print('Draw!')\n",
        "  return input_board\n",
        "\n",
        "# O human player sets with inputs from user\n",
        "def o_human_player(input_board):\n",
        "  row = input(\"What is the row location?\")\n",
        "  col = input(\"What is the col location?\")\n",
        "  o_player(input_board, row, col)\n",
        "  return input_board\n",
        "\n",
        "# X human player sets with inputs from user\n",
        "def x_human_player(input_board):\n",
        "  row = int(input(\"What is the row location?\"))\n",
        "  col = int(input(\"What is the col location?\"))\n",
        "  x_player(input_board, row, col)\n",
        "  return input_board\n",
        "\n",
        "# computer player first checks not to lose then how to win then just plays the first available spot\n",
        "# assumes human always starts with X hence computer plays O\n",
        "def o_computer_player(input_board): #assumes human always starts the game and computer always plays O\n",
        "  inserted=[0,False]\n",
        "  #goal is for computer is to first check not to lose\n",
        "  for i in range (0,2):\n",
        "  #finding if the opponent is one spot away from winning\n",
        "    if np.sum(np.sum(input_board == 'X', axis = i)==2) >=1:\n",
        "      index=np.where((np.sum(input_board == 'X', axis = i)==2) == True)[0][0]\n",
        "      for j in range (0,3):\n",
        "        inserted=o_player(input_board,j,index) if i==0 else o_player(input_board,index,j)\n",
        "        if inserted[1]:\n",
        "          break\n",
        "\n",
        "  #now computer checks how to win\n",
        "  if inserted[1]==False:\n",
        "    for i in range (0,2):\n",
        "      #finding if computer is one spot away from winning\n",
        "      if np.sum(np.sum(input_board == 'O', axis = i)==2) >=1:\n",
        "        index=np.where((np.sum(input_board == 'O', axis = i)==2) == True)[0][0]\n",
        "        for j in range (0,3):\n",
        "          inserted=o_player(input_board,j,index) if i==0 else o_player(input_board,index,j)\n",
        "          if inserted[1]:\n",
        "            break\n",
        "\n",
        "  #After checking for not losing and potential wins, now computer just plays teh first availabel spot\n",
        "  if inserted[1]==False:\n",
        "      for i in range (0,3):\n",
        "       for j in range (0,3):\n",
        "          inserted= o_player(input_board,i,j)\n",
        "          if inserted[1]:\n",
        "           break\n",
        "       if inserted[1]:\n",
        "          break\n",
        "\n",
        "  return input_board"
      ],
      "execution_count": null,
      "outputs": []
    },
    {
      "cell_type": "code",
      "metadata": {
        "id": "H9ujmBQ_7Xns",
        "colab": {
          "base_uri": "https://localhost:8080/"
        },
        "outputId": "6a486a47-af15-4cba-8e19-bb05629eac62"
      },
      "source": [
        "#playing human vs human game\n",
        "x_human_player(board)\n",
        "o_human_player(board)"
      ],
      "execution_count": null,
      "outputs": [
        {
          "name": "stdout",
          "output_type": "stream",
          "text": [
            "What is the row location?1\n",
            "What is the col location?0\n",
            "What is the row location?1\n",
            "What is the col location?2\n"
          ]
        },
        {
          "output_type": "execute_result",
          "data": {
            "text/plain": [
              "array([['-', '-', '-'],\n",
              "       ['X', '-', 'O'],\n",
              "       ['-', 'X', '-']], dtype='<U1')"
            ]
          },
          "metadata": {},
          "execution_count": 3
        }
      ]
    },
    {
      "cell_type": "code",
      "metadata": {
        "id": "tRt8us3Z-A_4"
      },
      "source": [
        "board=reset(board)"
      ],
      "execution_count": null,
      "outputs": []
    },
    {
      "cell_type": "code",
      "metadata": {
        "id": "xJxCSxkyE9YJ"
      },
      "source": [
        "#playing human (X) vs computer (O)\n",
        "#assume human always starts hence play with x\n",
        "x_human_player(board)\n",
        "o_computer_player(board)"
      ],
      "execution_count": null,
      "outputs": []
    }
  ]
}